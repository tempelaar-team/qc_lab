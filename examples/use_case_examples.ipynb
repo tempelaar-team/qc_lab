{
 "cells": [
  {
   "cell_type": "markdown",
   "id": "8a0aec14",
   "metadata": {},
   "source": [
    "# Use case examples\n",
    "This notebook demonstrates different use-cases for QC Lab"
   ]
  },
  {
   "cell_type": "markdown",
   "id": "a5bf4380",
   "metadata": {},
   "source": [
    "## Running a default simulation"
   ]
  },
  {
   "cell_type": "code",
   "execution_count": 1,
   "id": "33072556",
   "metadata": {},
   "outputs": [
    {
     "name": "stderr",
     "output_type": "stream",
     "text": [
      "100%|██████████| 10001/10001 [00:03<00:00, 3211.43it/s]\n",
      "100%|██████████| 10001/10001 [00:01<00:00, 6212.17it/s]\n",
      "100%|██████████| 10001/10001 [00:01<00:00, 6032.15it/s]\n",
      "100%|██████████| 10001/10001 [00:01<00:00, 6186.74it/s]\n",
      "100%|██████████| 10001/10001 [00:02<00:00, 3890.47it/s]\n",
      "100%|██████████| 10001/10001 [00:02<00:00, 3844.34it/s]\n",
      "100%|██████████| 10001/10001 [00:02<00:00, 3808.27it/s]\n",
      "100%|██████████| 10001/10001 [00:02<00:00, 3631.18it/s]\n"
     ]
    }
   ],
   "source": [
    "from qc_lab import Simulation\n",
    "from qc_lab.dynamics import serial_driver, parallel_driver_multiprocessing\n",
    "from qc_lab.models import SpinBoson\n",
    "from qc_lab.algorithms import MeanField\n",
    "import numpy as np\n",
    "\n",
    "sim_settings = {\"num_trajs\":100,\"batch_size\":25}\n",
    "\n",
    "sim = Simulation(sim_settings)\n",
    "sim.model = SpinBoson()\n",
    "sim.algorithm = MeanField()\n",
    "sim.state.wf_db = np.array([1.0, 0.0], dtype=complex)\n",
    "data = serial_driver(sim)\n",
    "data = parallel_driver_multiprocessing(sim)"
   ]
  },
  {
   "cell_type": "markdown",
   "id": "dc6ecc9e",
   "metadata": {},
   "source": [
    "## Changing the model ingredients"
   ]
  },
  {
   "cell_type": "code",
   "execution_count": 2,
   "id": "26072e56",
   "metadata": {},
   "outputs": [
    {
     "name": "stdout",
     "output_type": "stream",
     "text": [
      "('init_classical', <function harmonic_oscillator_boltzmann_init_classical at 0x763afdd2c8b0>)\n",
      "('init_classical', <function harmonic_oscillator_wigner_init_classical at 0x763afdd2c940>)\n"
     ]
    },
    {
     "name": "stderr",
     "output_type": "stream",
     "text": [
      "100%|██████████| 10001/10001 [00:01<00:00, 6245.66it/s]\n",
      "100%|██████████| 10001/10001 [00:01<00:00, 6348.43it/s]\n",
      "100%|██████████| 10001/10001 [00:01<00:00, 5019.48it/s]\n",
      "100%|██████████| 10001/10001 [00:02<00:00, 4692.09it/s]\n",
      "100%|██████████| 10001/10001 [00:02<00:00, 3396.84it/s]\n",
      "100%|██████████| 10001/10001 [00:02<00:00, 3381.43it/s]\n",
      "100%|██████████| 10001/10001 [00:03<00:00, 3048.91it/s]\n",
      "100%|██████████| 10001/10001 [00:03<00:00, 2972.73it/s]\n"
     ]
    }
   ],
   "source": [
    "from qc_lab import Simulation\n",
    "from qc_lab.dynamics import serial_driver, parallel_driver_multiprocessing\n",
    "from qc_lab.models import SpinBoson\n",
    "from qc_lab.algorithms import MeanField\n",
    "import numpy as np\n",
    "from qc_lab.ingredients import harmonic_oscillator_wigner_init_classical\n",
    "\n",
    "sim_settings = {\"num_trajs\":100,\"batch_size\":25}\n",
    "\n",
    "sim = Simulation(sim_settings)\n",
    "sim.model = SpinBoson()\n",
    "sim.algorithm = MeanField()\n",
    "sim.state.wf_db = np.array([1.0, 0.0], dtype=complex)\n",
    "print(sim.model.ingredients[5])\n",
    "# change the init_classical ingredient from boltzmann to wigner.\n",
    "sim.model.ingredients[5] = ('init_classical', harmonic_oscillator_wigner_init_classical)\n",
    "print(sim.model.ingredients[5])\n",
    "data = serial_driver(sim)\n",
    "data = parallel_driver_multiprocessing(sim)"
   ]
  },
  {
   "cell_type": "markdown",
   "id": "15fa2a0e",
   "metadata": {},
   "source": [
    "## Changing algorithm tasks"
   ]
  },
  {
   "cell_type": "code",
   "execution_count": 3,
   "id": "4ce1caa7",
   "metadata": {},
   "outputs": [
    {
     "name": "stdout",
     "output_type": "stream",
     "text": [
      "[<function update_t at 0x763afdd2eb00>, <function update_dm_db_mf at 0x763afdd2eb90>, <function MeanField._update_quantum_energy at 0x763afdd2fac0>, <function MeanField._update_classical_energy at 0x763afdd2fb50>]\n",
      "[<function update_t at 0x763afdd2eb00>, <function update_dm_db_mf at 0x763afdd2eb90>, <function MeanField._update_quantum_energy at 0x763afdd2fac0>, <function MeanField._update_classical_energy at 0x763afdd2fb50>, <function my_task at 0x763acef70940>]\n"
     ]
    },
    {
     "name": "stderr",
     "output_type": "stream",
     "text": [
      "100%|██████████| 10001/10001 [00:02<00:00, 4759.49it/s]\n",
      "100%|██████████| 10001/10001 [00:01<00:00, 5001.60it/s]\n",
      "100%|██████████| 10001/10001 [00:02<00:00, 4705.39it/s]\n",
      "100%|██████████| 10001/10001 [00:02<00:00, 4704.04it/s]\n",
      "100%|██████████| 10001/10001 [00:03<00:00, 3146.11it/s]\n",
      "100%|██████████| 10001/10001 [00:03<00:00, 3134.74it/s]\n",
      "100%|██████████| 10001/10001 [00:03<00:00, 3085.07it/s]\n",
      "100%|██████████| 10001/10001 [00:03<00:00, 3034.33it/s]\n"
     ]
    }
   ],
   "source": [
    "from qc_lab import Simulation\n",
    "from qc_lab.dynamics import serial_driver, parallel_driver_multiprocessing\n",
    "from qc_lab.models import SpinBoson\n",
    "from qc_lab.algorithms import MeanField\n",
    "import numpy as np\n",
    "\n",
    "sim_settings = {\"num_trajs\":100,\"batch_size\":25}\n",
    "\n",
    "sim = Simulation(sim_settings)\n",
    "sim.model = SpinBoson()\n",
    "sim.algorithm = MeanField()\n",
    "sim.state.wf_db = np.array([1.0, 0.0], dtype=complex)\n",
    "print(sim.algorithm.output_recipe)\n",
    "def my_task(algorithm, sim, parameters, state):\n",
    "    # we can just calculate something simple like the response function\n",
    "    if sim.t_ind == 0:\n",
    "        state.wf_db_0 = np.copy(state.wf_db)\n",
    "    state.response = np.sum(np.conj(state.wf_db_0) * state.wf_db, axis=-1)\n",
    "    return parameters, state\n",
    "sim.algorithm.output_recipe.append(my_task)\n",
    "sim.algorithm.output_variables.append('response')\n",
    "print(sim.algorithm.output_recipe)\n",
    "data = serial_driver(sim)\n",
    "data = parallel_driver_multiprocessing(sim)"
   ]
  },
  {
   "cell_type": "markdown",
   "id": "e92ae165",
   "metadata": {},
   "source": [
    "## User supplied seeds\n",
    "\n"
   ]
  },
  {
   "cell_type": "code",
   "execution_count": 4,
   "id": "3a2c7afb",
   "metadata": {},
   "outputs": [
    {
     "name": "stderr",
     "output_type": "stream",
     "text": [
      "/home/akrotz/Research/qc_lab/qc_lab/dynamics/serial_driver.py:29: UserWarning: Setting sim.settings.num_trajs to the number of provided seeds.\n",
      "  warnings.warn(\n",
      "100%|██████████| 10001/10001 [00:02<00:00, 4613.61it/s]\n",
      "100%|██████████| 10001/10001 [00:02<00:00, 4510.54it/s]\n",
      "100%|██████████| 10001/10001 [00:02<00:00, 4584.33it/s]\n",
      "100%|██████████| 10001/10001 [00:02<00:00, 4540.57it/s]"
     ]
    },
    {
     "name": "stdout",
     "output_type": "stream",
     "text": [
      "validated serial_driver with seeds\n"
     ]
    },
    {
     "name": "stderr",
     "output_type": "stream",
     "text": [
      "\n",
      "/home/akrotz/Research/qc_lab/qc_lab/dynamics/parallel_driver_multiprocessing.py:49: UserWarning: Setting sim.settings.num_trajs to the number of provided seeds.\n",
      "  warnings.warn(\n",
      "100%|██████████| 10001/10001 [00:02<00:00, 3866.90it/s]\n",
      "100%|██████████| 10001/10001 [00:02<00:00, 3363.92it/s]\n",
      "100%|██████████| 10001/10001 [00:03<00:00, 3307.43it/s]\n",
      "100%|██████████| 10001/10001 [00:03<00:00, 3222.16it/s]\n"
     ]
    },
    {
     "name": "stdout",
     "output_type": "stream",
     "text": [
      "validated parallel_driver_multiprocessing with seeds\n",
      "validated data consistency between serial and parallel drivers\n"
     ]
    }
   ],
   "source": [
    "np.random.seed(1234)\n",
    "\n",
    "my_seeds = np.unique(np.random.randint(0,10000, size=100))\n",
    "\n",
    "from qc_lab import Simulation\n",
    "from qc_lab.dynamics import serial_driver, parallel_driver_multiprocessing\n",
    "from qc_lab.models import SpinBoson\n",
    "from qc_lab.algorithms import MeanField\n",
    "import numpy as np\n",
    "\n",
    "sim_settings = {\"num_trajs\":100,\"batch_size\":25}\n",
    "\n",
    "sim = Simulation(sim_settings)\n",
    "sim.model = SpinBoson()\n",
    "sim.algorithm = MeanField()\n",
    "sim.state.wf_db = np.array([1.0, 0.0], dtype=complex)\n",
    "data_serial = serial_driver(sim, seeds=my_seeds)\n",
    "\n",
    "assert np.all(data_serial.data_dict['seed'] == my_seeds)\n",
    "print('validated serial_driver with seeds')\n",
    "\n",
    "data_parallel = parallel_driver_multiprocessing(sim, seeds=my_seeds)\n",
    "\n",
    "assert np.all(data_parallel.data_dict['seed'] == my_seeds)\n",
    "print('validated parallel_driver_multiprocessing with seeds')\n",
    "\n",
    "for key, val in data_serial.data_dict.items():\n",
    "    if key in data_parallel.data_dict:\n",
    "        assert np.all(val == data_parallel.data_dict[key]), f\"Mismatch in {key} between serial and parallel drivers\"\n",
    "print('validated data consistency between serial and parallel drivers')\n"
   ]
  },
  {
   "cell_type": "markdown",
   "id": "3826a1a3",
   "metadata": {},
   "source": [
    "## User supplied data object"
   ]
  },
  {
   "cell_type": "code",
   "execution_count": 5,
   "id": "36771680",
   "metadata": {},
   "outputs": [
    {
     "name": "stderr",
     "output_type": "stream",
     "text": [
      "100%|██████████| 10001/10001 [00:02<00:00, 4791.01it/s]\n",
      "100%|██████████| 10001/10001 [00:02<00:00, 4566.18it/s]\n",
      "100%|██████████| 10001/10001 [00:02<00:00, 4649.31it/s]\n",
      "100%|██████████| 10001/10001 [00:02<00:00, 4645.14it/s]\n",
      "100%|██████████| 10001/10001 [00:02<00:00, 4519.89it/s]\n",
      "100%|██████████| 10001/10001 [00:02<00:00, 4364.58it/s]\n",
      "100%|██████████| 10001/10001 [00:02<00:00, 4424.33it/s]\n",
      "100%|██████████| 10001/10001 [00:01<00:00, 5021.35it/s]\n"
     ]
    },
    {
     "name": "stdout",
     "output_type": "stream",
     "text": [
      "200\n"
     ]
    },
    {
     "name": "stderr",
     "output_type": "stream",
     "text": [
      "100%|██████████| 10001/10001 [00:02<00:00, 4922.68it/s]\n",
      "100%|██████████| 10001/10001 [00:02<00:00, 4814.34it/s]\n",
      "100%|██████████| 10001/10001 [00:02<00:00, 4329.74it/s]\n",
      "100%|██████████| 10001/10001 [00:02<00:00, 4734.87it/s]\n",
      "100%|██████████| 10001/10001 [00:01<00:00, 5009.98it/s]\n",
      "100%|██████████| 10001/10001 [00:02<00:00, 4714.97it/s]\n",
      "100%|██████████| 10001/10001 [00:02<00:00, 4880.95it/s]\n",
      "100%|██████████| 10001/10001 [00:01<00:00, 5061.35it/s]"
     ]
    },
    {
     "name": "stdout",
     "output_type": "stream",
     "text": [
      "validated data consistency between supplied data and new simulation\n"
     ]
    },
    {
     "name": "stderr",
     "output_type": "stream",
     "text": [
      "\n"
     ]
    }
   ],
   "source": [
    "## Serial\n",
    "from qc_lab import Simulation\n",
    "from qc_lab.dynamics import serial_driver, parallel_driver_multiprocessing\n",
    "from qc_lab.models import SpinBoson\n",
    "from qc_lab.algorithms import MeanField\n",
    "import numpy as np\n",
    "\n",
    "sim_settings = {\"num_trajs\":100,\"batch_size\":25}\n",
    "\n",
    "sim = Simulation(sim_settings)\n",
    "sim.model = SpinBoson()\n",
    "sim.algorithm = MeanField()\n",
    "sim.state.wf_db = np.array([1.0, 0.0], dtype=complex)\n",
    "data_1 = serial_driver(sim)\n",
    "data_2 = serial_driver(sim, data=data_1)\n",
    "\n",
    "sim_settings = {\"num_trajs\":200,\"batch_size\":25}\n",
    "\n",
    "sim = Simulation(sim_settings)\n",
    "sim.model = SpinBoson()\n",
    "sim.algorithm = MeanField()\n",
    "sim.state.wf_db = np.array([1.0, 0.0], dtype=complex)\n",
    "data_3 = serial_driver(sim)\n",
    "\n",
    "for key, val in data_3.data_dict.items():\n",
    "    if key in data_2.data_dict:\n",
    "        assert np.all(val == data_2.data_dict[key]), f\"Mismatch in {key}\"\n",
    "print('validated data consistency between supplied data and new simulation')"
   ]
  },
  {
   "cell_type": "code",
   "execution_count": 1,
   "id": "abfecc1c",
   "metadata": {},
   "outputs": [
    {
     "name": "stderr",
     "output_type": "stream",
     "text": [
      "100%|██████████| 10001/10001 [00:04<00:00, 2479.08it/s]\n",
      "100%|██████████| 10001/10001 [00:04<00:00, 2449.25it/s]\n",
      "100%|██████████| 10001/10001 [00:04<00:00, 2406.20it/s]\n",
      "100%|██████████| 10001/10001 [00:04<00:00, 2321.02it/s]\n",
      "100%|██████████| 10001/10001 [00:04<00:00, 2497.98it/s]\n",
      "100%|██████████| 10001/10001 [00:04<00:00, 2394.00it/s]\n",
      " 86%|████████▋ | 8630/10001 [00:04<00:00, 3783.55it/s]]\n",
      "100%|██████████| 10001/10001 [00:04<00:00, 2181.98it/s]\n"
     ]
    },
    {
     "name": "stdout",
     "output_type": "stream",
     "text": [
      "200\n"
     ]
    },
    {
     "name": "stderr",
     "output_type": "stream",
     "text": [
      "100%|██████████| 10001/10001 [00:07<00:00, 1329.69it/s]\n",
      "100%|██████████| 10001/10001 [00:07<00:00, 1282.93it/s]\n",
      "100%|██████████| 10001/10001 [00:07<00:00, 1278.30it/s]\n",
      "100%|██████████| 10001/10001 [00:07<00:00, 1270.07it/s]\n",
      "100%|██████████| 10001/10001 [00:08<00:00, 1247.10it/s]\n",
      "100%|██████████| 10001/10001 [00:08<00:00, 1246.54it/s]\n",
      "100%|██████████| 10001/10001 [00:08<00:00, 1234.98it/s]\n",
      "100%|██████████| 10001/10001 [00:08<00:00, 1205.29it/s]\n"
     ]
    },
    {
     "name": "stdout",
     "output_type": "stream",
     "text": [
      "Validating seed\n",
      "Validating norm_factor\n",
      "Validating t\n",
      "Validating dm_db\n",
      "Validating classical_energy\n",
      "Validating quantum_energy\n",
      "validated data consistency between supplied data and new simulation\n"
     ]
    }
   ],
   "source": [
    "## Parallel\n",
    "from qc_lab import Simulation\n",
    "from qc_lab.dynamics import serial_driver, parallel_driver_multiprocessing\n",
    "from qc_lab.models import SpinBoson\n",
    "from qc_lab.algorithms import MeanField\n",
    "import numpy as np\n",
    "\n",
    "sim_settings = {\"num_trajs\":100,\"batch_size\":25}\n",
    "\n",
    "sim = Simulation(sim_settings)\n",
    "sim.model = SpinBoson()\n",
    "sim.algorithm = MeanField()\n",
    "sim.state.wf_db = np.array([1.0, 0.0], dtype=complex)\n",
    "data_1 = parallel_driver_multiprocessing(sim)\n",
    "data_2 = parallel_driver_multiprocessing(sim, data=data_1)\n",
    "print(len(data_2.data_dict['seed']))\n",
    "sim_settings = {\"num_trajs\":200,\"batch_size\":25}\n",
    "\n",
    "sim = Simulation(sim_settings)\n",
    "sim.model = SpinBoson()\n",
    "sim.algorithm = MeanField()\n",
    "sim.state.wf_db = np.array([1.0, 0.0], dtype=complex)\n",
    "data_3 = parallel_driver_multiprocessing(sim)\n",
    "\n",
    "for key, val in data_3.data_dict.items():\n",
    "    if key in data_2.data_dict:\n",
    "        print(f\"Validating {key}\")\n",
    "        assert np.all(val == data_2.data_dict[key]), f\"Mismatch in {key}\"\n",
    "print('validated data consistency between supplied data and new simulation')"
   ]
  },
  {
   "cell_type": "code",
   "execution_count": null,
   "id": "55a72a91",
   "metadata": {},
   "outputs": [],
   "source": []
  }
 ],
 "metadata": {
  "kernelspec": {
   "display_name": ".venv",
   "language": "python",
   "name": "python3"
  },
  "language_info": {
   "codemirror_mode": {
    "name": "ipython",
    "version": 3
   },
   "file_extension": ".py",
   "mimetype": "text/x-python",
   "name": "python",
   "nbconvert_exporter": "python",
   "pygments_lexer": "ipython3",
   "version": "3.10.12"
  }
 },
 "nbformat": 4,
 "nbformat_minor": 5
}
