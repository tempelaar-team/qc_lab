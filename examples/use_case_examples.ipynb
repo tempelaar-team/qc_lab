{
 "cells": [
  {
   "cell_type": "markdown",
   "id": "8a0aec14",
   "metadata": {},
   "source": [
    "# Use case examples\n",
    "This notebook demonstrates different use-cases for QC Lab"
   ]
  },
  {
   "cell_type": "markdown",
   "id": "a5bf4380",
   "metadata": {},
   "source": [
    "## Running a default simulation"
   ]
  },
  {
   "cell_type": "code",
   "execution_count": 2,
   "id": "33072556",
   "metadata": {},
   "outputs": [
    {
     "name": "stderr",
     "output_type": "stream",
     "text": [
      "100%|██████████| 10001/10001 [00:02<00:00, 4448.46it/s]\n",
      "100%|██████████| 10001/10001 [00:02<00:00, 4644.40it/s]\n",
      "100%|██████████| 10001/10001 [00:02<00:00, 4549.06it/s]\n",
      "100%|██████████| 10001/10001 [00:02<00:00, 4468.11it/s]\n",
      "100%|██████████| 10001/10001 [00:03<00:00, 2820.32it/s]\n",
      "100%|██████████| 10001/10001 [00:03<00:00, 2801.92it/s]\n",
      "100%|██████████| 10001/10001 [00:03<00:00, 2788.93it/s]\n",
      "100%|██████████| 10001/10001 [00:03<00:00, 2763.90it/s]\n"
     ]
    }
   ],
   "source": [
    "from qc_lab import Simulation\n",
    "from qc_lab.dynamics import serial_driver, parallel_driver_multiprocessing\n",
    "from qc_lab.models import SpinBoson\n",
    "from qc_lab.algorithms import MeanField\n",
    "import numpy as np\n",
    "\n",
    "sim_settings = {\"num_trajs\":100,\"batch_size\":25}\n",
    "\n",
    "sim = Simulation(sim_settings)\n",
    "sim.model = SpinBoson()\n",
    "sim.algorithm = MeanField()\n",
    "sim.state.wf_db = np.array([1.0, 0.0], dtype=complex)\n",
    "data = serial_driver(sim)\n",
    "data = parallel_driver_multiprocessing(sim)"
   ]
  },
  {
   "cell_type": "markdown",
   "id": "dc6ecc9e",
   "metadata": {},
   "source": [
    "## Changing the model ingredients"
   ]
  },
  {
   "cell_type": "code",
   "execution_count": 6,
   "id": "26072e56",
   "metadata": {},
   "outputs": [
    {
     "name": "stdout",
     "output_type": "stream",
     "text": [
      "('init_classical', <function harmonic_oscillator_boltzmann_init_classical at 0x70022c872440>)\n",
      "('init_classical', <function harmonic_oscillator_wigner_init_classical at 0x70022c8724d0>)\n"
     ]
    },
    {
     "name": "stderr",
     "output_type": "stream",
     "text": [
      "100%|██████████| 10001/10001 [00:02<00:00, 4294.02it/s]\n",
      "100%|██████████| 10001/10001 [00:02<00:00, 4384.94it/s]\n",
      "100%|██████████| 10001/10001 [00:02<00:00, 4402.39it/s]\n",
      "100%|██████████| 10001/10001 [00:02<00:00, 4205.02it/s]\n",
      "100%|██████████| 10001/10001 [00:03<00:00, 2911.99it/s]\n",
      "100%|██████████| 10001/10001 [00:03<00:00, 2844.86it/s]\n",
      "100%|██████████| 10001/10001 [00:03<00:00, 2744.49it/s]\n",
      "100%|██████████| 10001/10001 [00:03<00:00, 2706.01it/s]\n"
     ]
    }
   ],
   "source": [
    "from qc_lab import Simulation\n",
    "from qc_lab.dynamics import serial_driver, parallel_driver_multiprocessing\n",
    "from qc_lab.models import SpinBoson\n",
    "from qc_lab.algorithms import MeanField\n",
    "import numpy as np\n",
    "from qc_lab.ingredients import harmonic_oscillator_wigner_init_classical\n",
    "\n",
    "sim_settings = {\"num_trajs\":100,\"batch_size\":25}\n",
    "\n",
    "sim = Simulation(sim_settings)\n",
    "sim.model = SpinBoson()\n",
    "sim.algorithm = MeanField()\n",
    "sim.state.wf_db = np.array([1.0, 0.0], dtype=complex)\n",
    "print(sim.model.ingredients[5])\n",
    "# change the init_classical ingredient from boltzmann to wigner.\n",
    "sim.model.ingredients[5] = ('init_classical', harmonic_oscillator_wigner_init_classical)\n",
    "print(sim.model.ingredients[5])\n",
    "data = serial_driver(sim)\n",
    "data = parallel_driver_multiprocessing(sim)"
   ]
  },
  {
   "cell_type": "markdown",
   "id": "15fa2a0e",
   "metadata": {},
   "source": [
    "## Changing algorithm tasks"
   ]
  },
  {
   "cell_type": "code",
   "execution_count": 9,
   "id": "4ce1caa7",
   "metadata": {},
   "outputs": [
    {
     "name": "stdout",
     "output_type": "stream",
     "text": [
      "[<function update_t at 0x70022c89c790>, <function update_dm_db_mf at 0x70022c89c820>, <function MeanField._update_quantum_energy at 0x70022c89d7e0>, <function MeanField._update_classical_energy at 0x70022c89d870>]\n",
      "[<function update_t at 0x70022c89c790>, <function update_dm_db_mf at 0x70022c89c820>, <function MeanField._update_quantum_energy at 0x70022c89d7e0>, <function MeanField._update_classical_energy at 0x70022c89d870>, <function my_task at 0x70024017e8c0>]\n"
     ]
    },
    {
     "name": "stderr",
     "output_type": "stream",
     "text": [
      "100%|██████████| 10001/10001 [00:02<00:00, 4204.48it/s]\n",
      "100%|██████████| 10001/10001 [00:02<00:00, 4178.59it/s]\n",
      "100%|██████████| 10001/10001 [00:02<00:00, 4221.32it/s]\n",
      "100%|██████████| 10001/10001 [00:02<00:00, 4190.70it/s]\n",
      "100%|██████████| 10001/10001 [00:03<00:00, 3033.76it/s]\n",
      "100%|██████████| 10001/10001 [00:03<00:00, 2881.46it/s]\n",
      "100%|██████████| 10001/10001 [00:03<00:00, 2766.95it/s]\n",
      "100%|██████████| 10001/10001 [00:03<00:00, 2759.69it/s]\n"
     ]
    }
   ],
   "source": [
    "from qc_lab import Simulation\n",
    "from qc_lab.dynamics import serial_driver, parallel_driver_multiprocessing\n",
    "from qc_lab.models import SpinBoson\n",
    "from qc_lab.algorithms import MeanField\n",
    "import numpy as np\n",
    "\n",
    "sim_settings = {\"num_trajs\":100,\"batch_size\":25}\n",
    "\n",
    "sim = Simulation(sim_settings)\n",
    "sim.model = SpinBoson()\n",
    "sim.algorithm = MeanField()\n",
    "sim.state.wf_db = np.array([1.0, 0.0], dtype=complex)\n",
    "print(sim.algorithm.output_recipe)\n",
    "def my_task(algorithm, sim, parameters, state):\n",
    "    # we can just calculate something simple like the response function\n",
    "    if sim.t_ind == 0:\n",
    "        state.wf_db_0 = np.copy(state.wf_db)\n",
    "    state.response = np.sum(np.conj(state.wf_db_0) * state.wf_db, axis=-1)\n",
    "    return parameters, state\n",
    "sim.algorithm.output_recipe.append(my_task)\n",
    "sim.algorithm.output_variables.append('response')\n",
    "print(sim.algorithm.output_recipe)\n",
    "data = serial_driver(sim)\n",
    "data = parallel_driver_multiprocessing(sim)"
   ]
  },
  {
   "cell_type": "code",
   "execution_count": null,
   "id": "3a2c7afb",
   "metadata": {},
   "outputs": [],
   "source": []
  }
 ],
 "metadata": {
  "kernelspec": {
   "display_name": ".venv",
   "language": "python",
   "name": "python3"
  },
  "language_info": {
   "codemirror_mode": {
    "name": "ipython",
    "version": 3
   },
   "file_extension": ".py",
   "mimetype": "text/x-python",
   "name": "python",
   "nbconvert_exporter": "python",
   "pygments_lexer": "ipython3",
   "version": "3.10.12"
  }
 },
 "nbformat": 4,
 "nbformat_minor": 5
}
